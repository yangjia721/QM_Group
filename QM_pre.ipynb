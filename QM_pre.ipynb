{
 "cells": [
  {
   "cell_type": "code",
   "execution_count": 1,
   "metadata": {},
   "outputs": [],
   "source": [
    "%matplotlib inline\n",
    "\n",
    "import matplotlib.pyplot as plt\n",
    "import numpy as np\n",
    "import pandas as pd\n",
    "import scipy as sp\n",
    "\n",
    "import scipy.stats as sps\n",
    "\n",
    "# Load the data into data frames\n",
    "df = pd.read_csv(\"QM_data.csv\")"
   ]
  },
  {
   "cell_type": "code",
   "execution_count": 2,
   "metadata": {},
   "outputs": [
    {
     "data": {
      "text/html": [
       "<div>\n",
       "<style scoped>\n",
       "    .dataframe tbody tr th:only-of-type {\n",
       "        vertical-align: middle;\n",
       "    }\n",
       "\n",
       "    .dataframe tbody tr th {\n",
       "        vertical-align: top;\n",
       "    }\n",
       "\n",
       "    .dataframe thead th {\n",
       "        text-align: right;\n",
       "    }\n",
       "</style>\n",
       "<table border=\"1\" class=\"dataframe\">\n",
       "  <thead>\n",
       "    <tr style=\"text-align: right;\">\n",
       "      <th></th>\n",
       "      <th>Area</th>\n",
       "      <th>House_prices_2011</th>\n",
       "      <th>Burglary_rate</th>\n",
       "      <th>Criminal_damage_rate</th>\n",
       "      <th>Drugs_rate</th>\n",
       "      <th>Fraud_or_Forgery_rate</th>\n",
       "      <th>Other_Notifiable_Offences_rate</th>\n",
       "      <th>Robbery_rate</th>\n",
       "      <th>Sexual_offences_rate</th>\n",
       "      <th>Theft_and_Handling_rate</th>\n",
       "      <th>Violence_Against_the_Person_rate</th>\n",
       "    </tr>\n",
       "  </thead>\n",
       "  <tbody>\n",
       "    <tr>\n",
       "      <th>0</th>\n",
       "      <td>Barking and Dagenham</td>\n",
       "      <td>0.170</td>\n",
       "      <td>0.0127</td>\n",
       "      <td>0.0118</td>\n",
       "      <td>0.0054</td>\n",
       "      <td>0.0061</td>\n",
       "      <td>0.0019</td>\n",
       "      <td>0.0057</td>\n",
       "      <td>0.0014</td>\n",
       "      <td>0.0337</td>\n",
       "      <td>0.0220</td>\n",
       "    </tr>\n",
       "    <tr>\n",
       "      <th>1</th>\n",
       "      <td>Barnet</td>\n",
       "      <td>0.324</td>\n",
       "      <td>0.0138</td>\n",
       "      <td>0.0070</td>\n",
       "      <td>0.0035</td>\n",
       "      <td>0.0044</td>\n",
       "      <td>0.0008</td>\n",
       "      <td>0.0033</td>\n",
       "      <td>0.0009</td>\n",
       "      <td>0.0284</td>\n",
       "      <td>0.0119</td>\n",
       "    </tr>\n",
       "    <tr>\n",
       "      <th>2</th>\n",
       "      <td>Bexley</td>\n",
       "      <td>0.215</td>\n",
       "      <td>0.0064</td>\n",
       "      <td>0.0075</td>\n",
       "      <td>0.0041</td>\n",
       "      <td>0.0028</td>\n",
       "      <td>0.0007</td>\n",
       "      <td>0.0016</td>\n",
       "      <td>0.0007</td>\n",
       "      <td>0.0172</td>\n",
       "      <td>0.0120</td>\n",
       "    </tr>\n",
       "    <tr>\n",
       "      <th>3</th>\n",
       "      <td>Brent</td>\n",
       "      <td>0.300</td>\n",
       "      <td>0.0121</td>\n",
       "      <td>0.0077</td>\n",
       "      <td>0.0149</td>\n",
       "      <td>0.0041</td>\n",
       "      <td>0.0015</td>\n",
       "      <td>0.0071</td>\n",
       "      <td>0.0012</td>\n",
       "      <td>0.0281</td>\n",
       "      <td>0.0235</td>\n",
       "    </tr>\n",
       "    <tr>\n",
       "      <th>4</th>\n",
       "      <td>Bromley</td>\n",
       "      <td>0.275</td>\n",
       "      <td>0.0103</td>\n",
       "      <td>0.0087</td>\n",
       "      <td>0.0035</td>\n",
       "      <td>0.0046</td>\n",
       "      <td>0.0007</td>\n",
       "      <td>0.0024</td>\n",
       "      <td>0.0008</td>\n",
       "      <td>0.0255</td>\n",
       "      <td>0.0151</td>\n",
       "    </tr>\n",
       "  </tbody>\n",
       "</table>\n",
       "</div>"
      ],
      "text/plain": [
       "                   Area  House_prices_2011  Burglary_rate  \\\n",
       "0  Barking and Dagenham              0.170         0.0127   \n",
       "1                Barnet              0.324         0.0138   \n",
       "2                Bexley              0.215         0.0064   \n",
       "3                 Brent              0.300         0.0121   \n",
       "4               Bromley              0.275         0.0103   \n",
       "\n",
       "   Criminal_damage_rate  Drugs_rate  Fraud_or_Forgery_rate  \\\n",
       "0                0.0118      0.0054                 0.0061   \n",
       "1                0.0070      0.0035                 0.0044   \n",
       "2                0.0075      0.0041                 0.0028   \n",
       "3                0.0077      0.0149                 0.0041   \n",
       "4                0.0087      0.0035                 0.0046   \n",
       "\n",
       "   Other_Notifiable_Offences_rate  Robbery_rate  Sexual_offences_rate  \\\n",
       "0                          0.0019        0.0057                0.0014   \n",
       "1                          0.0008        0.0033                0.0009   \n",
       "2                          0.0007        0.0016                0.0007   \n",
       "3                          0.0015        0.0071                0.0012   \n",
       "4                          0.0007        0.0024                0.0008   \n",
       "\n",
       "   Theft_and_Handling_rate  Violence_Against_the_Person_rate  \n",
       "0                   0.0337                            0.0220  \n",
       "1                   0.0284                            0.0119  \n",
       "2                   0.0172                            0.0120  \n",
       "3                   0.0281                            0.0235  \n",
       "4                   0.0255                            0.0151  "
      ]
     },
     "execution_count": 2,
     "metadata": {},
     "output_type": "execute_result"
    }
   ],
   "source": [
    "# The dataset shows house prices and crime rates in 31 areas of London in 2011.\n",
    "\n",
    "# Let's visualise the first few rows of each data set:\n",
    "\n",
    "df.head()"
   ]
  },
  {
   "cell_type": "code",
   "execution_count": 3,
   "metadata": {},
   "outputs": [
    {
     "name": "stdout",
     "output_type": "stream",
     "text": [
      "<class 'pandas.core.frame.DataFrame'>\n",
      "RangeIndex: 31 entries, 0 to 30\n",
      "Data columns (total 11 columns):\n",
      " #   Column                            Non-Null Count  Dtype  \n",
      "---  ------                            --------------  -----  \n",
      " 0   Area                              31 non-null     object \n",
      " 1   House_prices_2011                 31 non-null     float64\n",
      " 2   Burglary_rate                     31 non-null     float64\n",
      " 3   Criminal_damage_rate              31 non-null     float64\n",
      " 4   Drugs_rate                        31 non-null     float64\n",
      " 5   Fraud_or_Forgery_rate             31 non-null     float64\n",
      " 6   Other_Notifiable_Offences_rate    31 non-null     float64\n",
      " 7   Robbery_rate                      31 non-null     float64\n",
      " 8   Sexual_offences_rate              31 non-null     float64\n",
      " 9   Theft_and_Handling_rate           31 non-null     float64\n",
      " 10  Violence_Against_the_Person_rate  31 non-null     float64\n",
      "dtypes: float64(10), object(1)\n",
      "memory usage: 2.8+ KB\n"
     ]
    }
   ],
   "source": [
    "df.info()"
   ]
  },
  {
   "cell_type": "code",
   "execution_count": 28,
   "metadata": {},
   "outputs": [],
   "source": [
    "df = df.rename(columns = {'House_prices_2011':'house_price',\n",
    "                          'Burglary_rate':\"burglary\",\n",
    "                          'Criminal_damage_rate':'criminal',\n",
    "                          'Drugs_rate':'drugs',\n",
    "                          'Fraud_or_Forgery_rate':'fraud_forgery',\n",
    "                          'Other_Notifiable_Offences_rate':'other_offences',\n",
    "                          'Robbery_rate':\"robbery\",\n",
    "                          'Sexual_offences_rate':'sexual',\n",
    "                          'Theft_and_Handling_rate':'theft',\n",
    "                          'Violence_Against_the_Person_rate':'violence'})"
   ]
  },
  {
   "cell_type": "code",
   "execution_count": 29,
   "metadata": {},
   "outputs": [
    {
     "name": "stdout",
     "output_type": "stream",
     "text": [
      "                house_price  burglary  criminal     drugs  fraud_forgery  \\\n",
      "house_price        1.000000  0.214682 -0.163550  0.306838      -0.128472   \n",
      "burglary           0.214682  1.000000  0.330404  0.301978       0.252826   \n",
      "criminal          -0.163550  0.330404  1.000000  0.459992       0.385937   \n",
      "drugs              0.306838  0.301978  0.459992  1.000000       0.425500   \n",
      "fraud_forgery     -0.128472  0.252826  0.385937  0.425500       1.000000   \n",
      "other_offences     0.111258  0.292565  0.649216  0.735103       0.528282   \n",
      "robbery            0.128472  0.430763  0.507476  0.749748       0.427418   \n",
      "sexual             0.181359  0.164183  0.673953  0.728723       0.348325   \n",
      "theft              0.460630  0.345405  0.443704  0.770457       0.389567   \n",
      "violence           0.198486  0.337066  0.678550  0.823512       0.424117   \n",
      "\n",
      "                other_offences   robbery    sexual     theft  violence  \n",
      "house_price           0.111258  0.128472  0.181359  0.460630  0.198486  \n",
      "burglary              0.292565  0.430763  0.164183  0.345405  0.337066  \n",
      "criminal              0.649216  0.507476  0.673953  0.443704  0.678550  \n",
      "drugs                 0.735103  0.749748  0.728723  0.770457  0.823512  \n",
      "fraud_forgery         0.528282  0.427418  0.348325  0.389567  0.424117  \n",
      "other_offences        1.000000  0.669637  0.709159  0.694481  0.872462  \n",
      "robbery               0.669637  1.000000  0.806974  0.698416  0.769728  \n",
      "sexual                0.709159  0.806974  1.000000  0.742151  0.815170  \n",
      "theft                 0.694481  0.698416  0.742151  1.000000  0.758749  \n",
      "violence              0.872462  0.769728  0.815170  0.758749  1.000000  \n"
     ]
    }
   ],
   "source": [
    "#Checking the correlation between variables\n",
    "print(df.corr('spearman'))"
   ]
  },
  {
   "cell_type": "code",
   "execution_count": 30,
   "metadata": {},
   "outputs": [
    {
     "data": {
      "text/plain": [
       "Text(0.5, 1.0, 'Correlation Matrix')"
      ]
     },
     "execution_count": 30,
     "metadata": {},
     "output_type": "execute_result"
    },
    {
     "data": {
      "image/png": "[encoded data removed]",
      "text/plain": [
       "<Figure size 576x432 with 2 Axes>"
      ]
     },
     "metadata": {
      "needs_background": "light"
     },
     "output_type": "display_data"
    }
   ],
   "source": [
    "#In regression, collinearity is the problem when two variables are highly correlated and therefore contain similar information about the variance within the dataset. \n",
    "#Colinearity among variables can be detected by creating a correlation matrix.\n",
    "#multicollinearity emerges when three or more variables, which are highly correlated, are included in a model. It can emerge even when each pair of variables involved are not colinear.\n",
    "#Check the colinearity between variables using a correlation matrix as below\n",
    "\n",
    "plt.rcParams[\"axes.grid\"] = False\n",
    "f = plt.figure(figsize=(8, 6))\n",
    "plt.matshow(df.corr(), fignum=f.number)\n",
    "plt.xticks(range(df.shape[1]), df.columns, fontsize=12, rotation=39)\n",
    "plt.yticks(range(df.shape[1]), df.columns, fontsize=12)\n",
    "cb = plt.colorbar()\n",
    "cb.ax.tick_params(labelsize=12)\n",
    "plt.title('Correlation Matrix', fontsize=16)"
   ]
  },
  {
   "cell_type": "code",
   "execution_count": null,
   "metadata": {},
   "outputs": [],
   "source": [
    "#It looks like some variables' correlation is above 0.75, they may highly related. \n",
    "#However, we cannot remove them directly."
   ]
  },
  {
   "cell_type": "code",
   "execution_count": 6,
   "metadata": {},
   "outputs": [],
   "source": [
    "#Dealing with multicollinearity\n",
    "#Using VIF to deal with multicollinearity\n",
    "#If there are a large number of predictor variables, it is very difficult to manually test multicollinearity between them. \n",
    "#Here we use VIF to automatically deal with multicollinearity.\n",
    "#The Variance Inflation Factor (VIF) is a measure of multicolinearity among predictors within a multiple regression task. \n",
    "\n",
    "from statsmodels.stats.outliers_influence import variance_inflation_factor \n",
    "from statsmodels.tools.tools import add_constant\n",
    "\n",
    "def drop_column_using_vif_(df, thresh=5):\n",
    "    while True:\n",
    "        df_with_const = add_constant(df)\n",
    "        vif_df = pd.Series([variance_inflation_factor(df_with_const.values, i) \n",
    "               for i in range(df_with_const.shape[1])], name= \"VIF\",\n",
    "              index=df_with_const.columns).to_frame()\n",
    "        vif_df = vif_df.drop('const') \n",
    "        if vif_df.VIF.max() > thresh:\n",
    "            index_to_drop = vif_df.index[vif_df.VIF == vif_df.VIF.max()].tolist()[0]\n",
    "            print('Dropping: {}'.format(index_to_drop))\n",
    "            df = df.drop(columns = index_to_drop)\n",
    "        else:\n",
    "            break\n",
    "    return df"
   ]
  },
  {
   "cell_type": "code",
   "execution_count": 27,
   "metadata": {},
   "outputs": [
    {
     "name": "stdout",
     "output_type": "stream",
     "text": [
      "Dropping: violence\n",
      "Dropping: sexual\n"
     ]
    }
   ],
   "source": [
    "df_new = drop_column_using_vif_(df.drop('Area', axis=1))"
   ]
  },
  {
   "cell_type": "code",
   "execution_count": 8,
   "metadata": {},
   "outputs": [],
   "source": [
    "# This package will allow for multilinear regression. It can also be used for simple linear regression.\n",
    "\n",
    "import statsmodels.formula.api as smf\n",
    "import statsmodels.api as sm"
   ]
  },
  {
   "cell_type": "code",
   "execution_count": 11,
   "metadata": {},
   "outputs": [
    {
     "name": "stdout",
     "output_type": "stream",
     "text": [
      "                            OLS Regression Results                            \n",
      "==============================================================================\n",
      "Dep. Variable:            house_price   R-squared:                       0.716\n",
      "Model:                            OLS   Adj. R-squared:                  0.629\n",
      "Method:                 Least Squares   F-statistic:                     8.277\n",
      "Date:                Wed, 09 Dec 2020   Prob (F-statistic):           4.68e-05\n",
      "Time:                        14:39:27   Log-Likelihood:                 42.866\n",
      "No. Observations:                  31   AIC:                            -69.73\n",
      "Df Residuals:                      23   BIC:                            -58.26\n",
      "Df Model:                           7                                         \n",
      "Covariance Type:            nonrobust                                         \n",
      "==================================================================================\n",
      "                     coef    std err          t      P>|t|      [0.025      0.975]\n",
      "----------------------------------------------------------------------------------\n",
      "Intercept          0.3599      0.108      3.319      0.003       0.136       0.584\n",
      "burglary           2.2366      8.215      0.272      0.788     -14.758      19.231\n",
      "criminal         -28.2715     12.380     -2.284      0.032     -53.881      -2.662\n",
      "drugs              3.9708      6.587      0.603      0.553      -9.655      17.597\n",
      "fraud_forgery     -0.5889     13.864     -0.042      0.966     -29.268      28.091\n",
      "other_offences   -22.6809     49.851     -0.455      0.653    -125.805      80.443\n",
      "robbery          -14.0489      9.035     -1.555      0.134     -32.739       4.642\n",
      "theft              6.5109      1.176      5.537      0.000       4.078       8.943\n",
      "==============================================================================\n",
      "Omnibus:                        5.970   Durbin-Watson:                   2.342\n",
      "Prob(Omnibus):                  0.051   Jarque-Bera (JB):                4.665\n",
      "Skew:                           0.602   Prob(JB):                       0.0970\n",
      "Kurtosis:                       4.470   Cond. No.                     3.99e+03\n",
      "==============================================================================\n",
      "\n",
      "Notes:\n",
      "[1] Standard Errors assume that the covariance matrix of the errors is correctly specified.\n",
      "[2] The condition number is large, 3.99e+03. This might indicate that there are\n",
      "strong multicollinearity or other numerical problems.\n"
     ]
    }
   ],
   "source": [
    "multi_regression_model = smf.ols(formula='house_price ~ burglary + criminal + drugs + fraud_forgery + other_offences + robbery + theft',data=df).fit()\n",
    "\n",
    "print(multi_regression_model.summary())"
   ]
  },
  {
   "cell_type": "code",
   "execution_count": 12,
   "metadata": {},
   "outputs": [
    {
     "name": "stdout",
     "output_type": "stream",
     "text": [
      "y = 2.237 x1 + -28.271 x2 + 0.36 x3 + 3.971 x4 + -0.589 x5 + -22.681 x6 + -14.049 x7 + 6.511\n",
      "R^2     =  0.7158326121554923\n",
      "p-value_1 =  0.788\n",
      "p-value_2 =  0.032\n",
      "p-value_3 =  0.553\n",
      "p-value_4 =  0.966\n",
      "p-value_5 =  0.653\n",
      "p-value_6 =  0.134\n",
      "p-value_7 =  0.0\n"
     ]
    }
   ],
   "source": [
    "# Pick out some values of interest and print the regression equation:\n",
    "\n",
    "beta_0, beta_1, beta_2, beta_3, beta_4, beta_5, beta_6, beta_7 = multi_regression_model.params\n",
    "rsq                    = multi_regression_model.rsquared\n",
    "pval_0, pval_1, pval_2, pval_3, pval_4, pval_5, pval_6, pval_7 = multi_regression_model.pvalues\n",
    "\n",
    "print(\"y =\", round(beta_1,3), \"x1 +\", round(beta_2,3), \"x2 +\", round(beta_0,3), \"x3 +\", round(beta_3, 3), \"x4 +\", round(beta_4, 3), \"x5 +\", round(beta_5, 3), \"x6 +\", round(beta_6, 3), \"x7 +\", round(beta_7, 3))\n",
    "print(\"R^2     = \", rsq)\n",
    "print(\"p-value_1 = \", round(pval_1,3))\n",
    "print(\"p-value_2 = \", round(pval_2,3))\n",
    "print(\"p-value_3 = \", round(pval_3,3))\n",
    "print(\"p-value_4 = \", round(pval_4,3))\n",
    "print(\"p-value_5 = \", round(pval_5,3))\n",
    "print(\"p-value_6 = \", round(pval_6,3))\n",
    "print(\"p-value_7 = \", round(pval_7,3))\n"
   ]
  },
  {
   "cell_type": "code",
   "execution_count": 26,
   "metadata": {},
   "outputs": [
    {
     "data": {
      "image/png": "[encoded data removed]",
      "text/plain": [
       "<Figure size 432x288 with 1 Axes>"
      ]
     },
     "metadata": {
      "needs_background": "light"
     },
     "output_type": "display_data"
    },
    {
     "name": "stdout",
     "output_type": "stream",
     "text": [
      "y = 5.107 x + 0.117\n",
      "Rsq =  0.4733673242909561\n",
      "p-value =  1.891498807869346e-05\n"
     ]
    }
   ],
   "source": [
    "# This is a linear regression of house_price_2011 against theft_and_handing_rate\n",
    "\n",
    "X = df['theft']\n",
    "Y = df['house_price']\n",
    "\n",
    "plt.xlabel('theft_and_handling_rate')\n",
    "plt.ylabel('house_price_2011(million)')\n",
    "\n",
    "a = plt.plot(X,Y,'.', label='original data')\n",
    "plt.xlim(0,0.1)\n",
    "plt.ylim(0,0.9)\n",
    "\n",
    "slope, intercept, r_value, p_value, std_err = sps.linregress(X, Y) \n",
    "\n",
    "b = plt.plot(X, X*slope + intercept, 'r', label = 'fitted line') # Plot the regression line.\n",
    "\n",
    "plt.legend()\n",
    "plt.show()\n",
    "\n",
    "print(\"y =\", round(slope,3), \"x +\", round(intercept,3))\n",
    "print(\"Rsq = \", r_value**2)\n",
    "print(\"p-value = \", p_value)"
   ]
  },
  {
   "cell_type": "code",
   "execution_count": null,
   "metadata": {},
   "outputs": [],
   "source": []
  }
 ],
 "metadata": {
  "kernelspec": {
   "display_name": "Python 3",
   "language": "python",
   "name": "python3"
  },
  "language_info": {
   "codemirror_mode": {
    "name": "ipython",
    "version": 3
   },
   "file_extension": ".py",
   "mimetype": "text/x-python",
   "name": "python",
   "nbconvert_exporter": "python",
   "pygments_lexer": "ipython3",
   "version": "3.7.8"
  }
 },
 "nbformat": 4,
 "nbformat_minor": 4
}
